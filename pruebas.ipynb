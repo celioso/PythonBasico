{
 "cells": [
  {
   "cell_type": "code",
   "execution_count": 1,
   "metadata": {},
   "outputs": [
    {
     "name": "stdout",
     "output_type": "stream",
     "text": [
      "JavaScript\n",
      "React\n",
      "Node\n",
      "MongoDB\n",
      "Python\n"
     ]
    }
   ],
   "source": [
    "person = {\n",
    "    'first_name': 'Asabeneh',\n",
    "    'last_name': 'Yetayeh',\n",
    "    'age': 250,\n",
    "    'country': 'Finland',\n",
    "    'is_marred': True,\n",
    "    'skills': ['JavaScript', 'React', 'Node', 'MongoDB', 'Python'],\n",
    "    'address': {\n",
    "        'street': 'Space street',\n",
    "        'zipcode': '02210'\n",
    "    }\n",
    "}\n",
    "for key in person:\n",
    "    if key == 'skills':\n",
    "        for skill in person['skills']:\n",
    "            print(skill)"
   ]
  },
  {
   "cell_type": "code",
   "execution_count": 2,
   "metadata": {},
   "outputs": [
    {
     "name": "stdout",
     "output_type": "stream",
     "text": [
      "Peter, welcome to Python for Everyone!\n",
      "Asabeneh, welcome to Python for Everyone!\n",
      "Asabeneh Yetayeh\n",
      "David Smith\n",
      "Age:  200\n",
      "Weight of an object in Newtons:  981.0 N\n",
      "Weight of an object in Newtons:  162.0 N\n"
     ]
    }
   ],
   "source": [
    "def greetings (name = 'Peter'):\n",
    "    message = name + ', welcome to Python for Everyone!'\n",
    "    return message\n",
    "print(greetings())\n",
    "print(greetings('Asabeneh'))\n",
    "\n",
    "def generate_full_name (first_name = 'Asabeneh', last_name = 'Yetayeh'):\n",
    "    space = ' '\n",
    "    full_name = first_name + space + last_name\n",
    "    return full_name\n",
    "\n",
    "print(generate_full_name())\n",
    "print(generate_full_name('David','Smith'))\n",
    "\n",
    "def calculate_age (birth_year,current_year = 2021):\n",
    "    age = current_year - birth_year\n",
    "    return age\n",
    "print('Age: ', calculate_age(1821))\n",
    "\n",
    "def weight_of_object (mass, gravity = 9.81):\n",
    "    weight = str(mass * gravity)+ ' N' # the value has to be changed to string first\n",
    "    return weight\n",
    "print('Weight of an object in Newtons: ', weight_of_object(100)) # 9.81 - average gravity on Earth's surface\n",
    "print('Weight of an object in Newtons: ', weight_of_object(100, 1.62)) # gravity on the surface of the Moon"
   ]
  },
  {
   "cell_type": "code",
   "execution_count": null,
   "metadata": {},
   "outputs": [],
   "source": [
    "x = float(input(\"Ingrese el valor\"))\n",
    "y = 0.25\n",
    "impuesto_oc = x -(x*y)\n",
    "\n",
    "descuento_4por1000 = (impuesto_oc-((impuesto_oc*4)/1000))\n",
    "\n",
    "print(f\"premio es de {x}, descuento de impuesto ocacional es {impuesto_oc}, total despues del descuento del cuatro por mill {descuento_4por1000}\")"
   ]
  }
 ],
 "metadata": {
  "kernelspec": {
   "display_name": "Python 3",
   "language": "python",
   "name": "python3"
  },
  "language_info": {
   "codemirror_mode": {
    "name": "ipython",
    "version": 3
   },
   "file_extension": ".py",
   "mimetype": "text/x-python",
   "name": "python",
   "nbconvert_exporter": "python",
   "pygments_lexer": "ipython3",
   "version": "3.11.1"
  },
  "orig_nbformat": 4,
  "vscode": {
   "interpreter": {
    "hash": "5a9f38817c8ceb891a0ba0bc99fbd8fe203dc93590b0deea4ef2b0373c67f9c0"
   }
  }
 },
 "nbformat": 4,
 "nbformat_minor": 2
}
